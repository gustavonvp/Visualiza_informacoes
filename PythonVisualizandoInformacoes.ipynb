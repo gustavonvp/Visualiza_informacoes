{
 "cells": [
  {
   "cell_type": "code",
   "execution_count": 19,
   "id": "ccbc5374-75e8-4a44-a4c3-f5348020c06d",
   "metadata": {},
   "outputs": [],
   "source": [
    "import pandas as pd\n",
    "import matplotlib.pyplot as plt\n",
    "\n",
    "df = pd.read_csv(\"C:/Users/usuario/PycharmProjects/Visualiza_informacoes/dados/owid-co2-data.csv\")\n",
    "df.head()\n",
    "\n",
    "def plot_co2_emission(df: pd.DataFrame, x: str, y: str, title: str, xlabel: str, ylabel: str):\n",
    "    df.plot(x=x, y=y, kind=\"bar\")\n",
    "    plt.title(title)\n",
    "    plt.ylabel(ylabel)\n",
    "    plt.xlabel(xlabel)\n",
    "    plt.show()"
   ]
  },
  {
   "cell_type": "code",
   "execution_count": null,
   "id": "49599b96-9409-4087-81e0-5a5ad1aaeeb9",
   "metadata": {},
   "outputs": [],
   "source": []
  }
 ],
 "metadata": {
  "kernelspec": {
   "display_name": "Python 3 (ipykernel)",
   "language": "python",
   "name": "python3"
  },
  "language_info": {
   "codemirror_mode": {
    "name": "ipython",
    "version": 3
   },
   "file_extension": ".py",
   "mimetype": "text/x-python",
   "name": "python",
   "nbconvert_exporter": "python",
   "pygments_lexer": "ipython3",
   "version": "3.11.7"
  }
 },
 "nbformat": 4,
 "nbformat_minor": 5
}
